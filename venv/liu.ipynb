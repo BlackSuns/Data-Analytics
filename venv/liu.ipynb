{
 "cells": [
  {
   "cell_type": "code",
   "execution_count": null,
   "metadata": {
    "collapsed": true
   },
   "outputs": [],
   "source": [
    "f=open(\"\"C:/360极速浏览器下载/dq_unisex_names.csv\",\"r\",encoding='utf-8')\n",
    "data=f.read()\n",
    "rows=data.split('\\n')\n",
    "print(rows)\n",
    "name=[]\n",
    "for row in rows:\n",
    "    value=row.split(',')\n",
    "    count=value[1]\n",
    "    if float(count)>=1000:\n",
    "        name.append(value[0])\n",
    "print(name)     "
   ]
  }
 ],
 "metadata": {
  "kernelspec": {
   "display_name": "Python 2",
   "language": "python",
   "name": "python2"
  },
  "language_info": {
   "codemirror_mode": {
    "name": "ipython",
    "version": 2
   },
   "file_extension": ".py",
   "mimetype": "text/x-python",
   "name": "python",
   "nbconvert_exporter": "python",
   "pygments_lexer": "ipython2",
   "version": "2.7.6"
  }
 },
 "nbformat": 4,
 "nbformat_minor": 0
}
